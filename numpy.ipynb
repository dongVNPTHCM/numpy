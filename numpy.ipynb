{
  "nbformat": 4,
  "nbformat_minor": 0,
  "metadata": {
    "colab": {
      "provenance": [],
      "authorship_tag": "ABX9TyMD/dyHg9eotbg6AE6boXUl"
    },
    "kernelspec": {
      "name": "python3",
      "display_name": "Python 3"
    },
    "language_info": {
      "name": "python"
    }
  },
  "cells": [
    {
      "cell_type": "code",
      "execution_count": 1,
      "metadata": {
        "colab": {
          "base_uri": "https://localhost:8080/"
        },
        "id": "ABAOOsqAJ5IC",
        "outputId": "548197b2-61e3-4603-beb1-bfa1ab965a0c"
      },
      "outputs": [
        {
          "output_type": "stream",
          "name": "stdout",
          "text": [
            "[1 2 3]\n",
            "1\n",
            "2\n"
          ]
        }
      ],
      "source": [
        "#from list\n",
        "import numpy as np\n",
        "l = list(range(1,4))\n",
        "data = np.array(l)\n",
        "print(data)\n",
        "print(data[0])\n",
        "print(data[1])"
      ]
    },
    {
      "cell_type": "code",
      "source": [
        "#tao ndarray tu list\n",
        "import numpy as np\n",
        "listID = [1,2,3]\n",
        "data = np.array(listID)\n",
        "\n",
        "print(data)\n",
        "print(data.shape)"
      ],
      "metadata": {
        "colab": {
          "base_uri": "https://localhost:8080/"
        },
        "id": "dxaE7mH5LOmv",
        "outputId": "10ad3195-da1b-405e-c861-ecb088ae566a"
      },
      "execution_count": 2,
      "outputs": [
        {
          "output_type": "stream",
          "name": "stdout",
          "text": [
            "[1 2 3]\n",
            "(3,)\n"
          ]
        }
      ]
    },
    {
      "cell_type": "code",
      "source": [
        "#tao ndarray tu list\n",
        "import numpy as np\n",
        "list2D = [[1,2],[3,4],[4,6]]\n",
        "data = np.array(list2D)\n",
        "\n",
        "print(data)\n",
        "print(data.shape)\n"
      ],
      "metadata": {
        "colab": {
          "base_uri": "https://localhost:8080/"
        },
        "id": "vFrxijVaLvTQ",
        "outputId": "b0b5f085-cef2-42bf-84ec-a2071c0f8ffe"
      },
      "execution_count": 3,
      "outputs": [
        {
          "output_type": "stream",
          "name": "stdout",
          "text": [
            "[[1 2]\n",
            " [3 4]\n",
            " [4 6]]\n",
            "(3, 2)\n"
          ]
        }
      ]
    },
    {
      "cell_type": "code",
      "source": [
        "#tao ndarray tu list\n",
        "import numpy as np\n",
        "data1 = np.array([1,2,3])\n",
        "print(data1.dtype)\n",
        "\n",
        "data2 = np.array([1.,2.,3.])\n",
        "print(data2.dtype)\n",
        "\n",
        "data3 = np.array([1,2,3],dtype=np.int64)\n",
        "print(data3.dtype)\n"
      ],
      "metadata": {
        "colab": {
          "base_uri": "https://localhost:8080/"
        },
        "id": "C23eYVmkNgNu",
        "outputId": "c2b6b4c1-29b1-41ab-a336-dd364f78ccb4"
      },
      "execution_count": 5,
      "outputs": [
        {
          "output_type": "stream",
          "name": "stdout",
          "text": [
            "int64\n",
            "float64\n",
            "int64\n"
          ]
        }
      ]
    },
    {
      "cell_type": "code",
      "source": [
        "#tao ndarray tu list\n",
        "import numpy as np\n",
        "list3D = [[[1,6],[2,2],[3,4]],\n",
        "          [[4,7],[5,2],[6,9]],\n",
        "          [[7,7],[8,2],[9,5]]]\n",
        "data = np.array(list3D)\n",
        "\n",
        "print(data)\n",
        "print(data.shape)"
      ],
      "metadata": {
        "colab": {
          "base_uri": "https://localhost:8080/"
        },
        "id": "Jwy8mJ-bMIqH",
        "outputId": "eaa80171-29f7-49f0-d8ee-7a3d5375021a"
      },
      "execution_count": 4,
      "outputs": [
        {
          "output_type": "stream",
          "name": "stdout",
          "text": [
            "[[[1 6]\n",
            "  [2 2]\n",
            "  [3 4]]\n",
            "\n",
            " [[4 7]\n",
            "  [5 2]\n",
            "  [6 9]]\n",
            "\n",
            " [[7 7]\n",
            "  [8 2]\n",
            "  [9 5]]]\n",
            "(3, 3, 2)\n"
          ]
        }
      ]
    },
    {
      "cell_type": "code",
      "source": [
        "#update an element\n",
        "import numpy as np\n",
        "l = list(range(1,4))\n",
        "data = np.array(l)\n",
        "print(data)\n",
        "data[0]=8\n",
        "print(data)"
      ],
      "metadata": {
        "colab": {
          "base_uri": "https://localhost:8080/"
        },
        "id": "zMpTbdKYORme",
        "outputId": "0ae7ed4c-57eb-4d4c-f22c-cee86675c5f9"
      },
      "execution_count": 6,
      "outputs": [
        {
          "output_type": "stream",
          "name": "stdout",
          "text": [
            "[1 2 3]\n",
            "[8 2 3]\n"
          ]
        }
      ]
    },
    {
      "cell_type": "code",
      "source": [
        "#create numpy array\n",
        "import numpy as np\n",
        "arr = np.zeros((2,3))\n",
        "print(arr)\n"
      ],
      "metadata": {
        "colab": {
          "base_uri": "https://localhost:8080/"
        },
        "id": "Mab7jdW_OyoJ",
        "outputId": "314718b9-33b6-4e74-9744-5f8cce3a837c"
      },
      "execution_count": 7,
      "outputs": [
        {
          "output_type": "stream",
          "name": "stdout",
          "text": [
            "[[0. 0. 0.]\n",
            " [0. 0. 0.]]\n"
          ]
        }
      ]
    },
    {
      "cell_type": "code",
      "source": [
        "#arager() funtion\n",
        "import numpy as np\n",
        "arr = np.arange(5)\n",
        "print(arr)\n",
        "arr2 = np.arange(0,5,2)\n",
        "print(arr2)"
      ],
      "metadata": {
        "colab": {
          "base_uri": "https://localhost:8080/"
        },
        "id": "W1gmPC1NPLnW",
        "outputId": "9d68126f-cd83-4069-fe7d-06d17ee5c5e6"
      },
      "execution_count": 8,
      "outputs": [
        {
          "output_type": "stream",
          "name": "stdout",
          "text": [
            "[0 1 2 3 4]\n",
            "[0 2 4]\n"
          ]
        }
      ]
    },
    {
      "cell_type": "code",
      "source": [
        "#eye() funtion\n",
        "import numpy as np\n",
        "arr = np.eye(3)\n",
        "print(arr)"
      ],
      "metadata": {
        "colab": {
          "base_uri": "https://localhost:8080/"
        },
        "id": "9Qax_S7JPsOZ",
        "outputId": "c90630b4-da71-4be3-dc12-bb43250ed4e7"
      },
      "execution_count": 9,
      "outputs": [
        {
          "output_type": "stream",
          "name": "stdout",
          "text": [
            "[[1. 0. 0.]\n",
            " [0. 1. 0.]\n",
            " [0. 0. 1.]]\n"
          ]
        }
      ]
    },
    {
      "cell_type": "code",
      "source": [
        "#random() funtion\n",
        "import numpy as np\n",
        "arr = np.random.random((2,3))\n",
        "print(arr)"
      ],
      "metadata": {
        "colab": {
          "base_uri": "https://localhost:8080/"
        },
        "id": "cufKADeMP5RI",
        "outputId": "8c10a390-7c80-4dcd-c42d-c4807e0ddc78"
      },
      "execution_count": 11,
      "outputs": [
        {
          "output_type": "stream",
          "name": "stdout",
          "text": [
            "[[0.12017593 0.83660007 0.98389383]\n",
            " [0.03720482 0.12510638 0.79023945]]\n"
          ]
        }
      ]
    },
    {
      "cell_type": "code",
      "source": [
        "#where() funtion\n",
        "import numpy as np\n",
        "arr = np.arange(5)\n",
        "print(arr)\n",
        "condition = arr < 3\n",
        "out = np.where(condition,arr,arr*2)\n",
        "print(condition)\n",
        "print(out)"
      ],
      "metadata": {
        "colab": {
          "base_uri": "https://localhost:8080/"
        },
        "id": "fzEo3MK9QZ99",
        "outputId": "79a1468b-6295-4eea-c847-6290ca03174f"
      },
      "execution_count": 12,
      "outputs": [
        {
          "output_type": "stream",
          "name": "stdout",
          "text": [
            "[0 1 2 3 4]\n",
            "[ True  True  True False False]\n",
            "[0 1 2 6 8]\n"
          ]
        }
      ]
    },
    {
      "cell_type": "code",
      "source": [
        "#flatten() funtion\n",
        "import numpy as np\n",
        "arr = np.array([[1,2],[3,4]])\n",
        "out = arr.flatten()\n",
        "print(arr)\n",
        "print(out)"
      ],
      "metadata": {
        "colab": {
          "base_uri": "https://localhost:8080/"
        },
        "id": "VhJJySxRS5I9",
        "outputId": "28195981-bb57-49dc-ba44-081577036554"
      },
      "execution_count": 14,
      "outputs": [
        {
          "output_type": "stream",
          "name": "stdout",
          "text": [
            "[[1 2]\n",
            " [3 4]]\n",
            "[1 2 3 4]\n"
          ]
        }
      ]
    }
  ]
}